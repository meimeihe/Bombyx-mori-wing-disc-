{
 "cells": [
  {
   "cell_type": "code",
   "execution_count": 1,
   "id": "9c512ad5-53e9-437b-a03f-fc3890cbd6a0",
   "metadata": {},
   "outputs": [],
   "source": [
    ".libPaths(c(\"/hsfscqjf2/ST_CQ/Reference/software/envs/cellchat/lib/R/library\",\n",
    "           \"/hsfscqjf2/ST_CQ/Reference/software/envs/RTest/lib/R/library\"))"
   ]
  },
  {
   "cell_type": "code",
   "execution_count": 2,
   "id": "101f09a4-b367-4536-b235-47ef69171a7f",
   "metadata": {},
   "outputs": [
    {
     "name": "stderr",
     "output_type": "stream",
     "text": [
      "Loading required package: SeuratObject\n",
      "\n",
      "Loading required package: sp\n",
      "\n",
      "\n",
      "Attaching package: ‘SeuratObject’\n",
      "\n",
      "\n",
      "The following object is masked from ‘package:base’:\n",
      "\n",
      "    intersect\n",
      "\n",
      "\n"
     ]
    }
   ],
   "source": [
    "library(Seurat)\n",
    "library(ggplot2)\n",
    "library(future)\n",
    "library(ggsci)\n",
    "library(scales)\n",
    "library(RColorBrewer)\n",
    "library(ggplot2)\n",
    "library(ggrepel)\n",
    "library(ggpubr)\n"
   ]
  },
  {
   "cell_type": "code",
   "execution_count": 3,
   "id": "27e34d9d-960d-4550-b765-1c49edcc6d71",
   "metadata": {},
   "outputs": [
    {
     "name": "stderr",
     "output_type": "stream",
     "text": [
      "Warning message in dir.create(resultdir):\n",
      "“'/hsfscqjf1/ST_CQ/P24Z32300N0020/hemingmin/bom/10.sc_merged1/results/8_hippo_scores' already exists”\n"
     ]
    }
   ],
   "source": [
    "resultdir<-\"/hsfscqjf1/ST_CQ/P24Z32300N0020/hemingmin/bom/10.sc_merged1/results/8_hippo_scores/\"\n",
    "dir.create(resultdir)\n",
    "figuredir=resultdir\n",
    "setwd(resultdir)"
   ]
  },
  {
   "cell_type": "code",
   "execution_count": 5,
   "id": "c32468b8-af98-47f8-b609-ac81ddfb5e97",
   "metadata": {},
   "outputs": [
    {
     "data": {
      "text/html": [
       "<table class=\"dataframe\">\n",
       "<caption>A data.frame: 6 × 2</caption>\n",
       "<thead>\n",
       "\t<tr><th></th><th scope=col>ID</th><th scope=col>descrip</th></tr>\n",
       "\t<tr><th></th><th scope=col>&lt;int&gt;</th><th scope=col>&lt;chr&gt;</th></tr>\n",
       "</thead>\n",
       "<tbody>\n",
       "\t<tr><th scope=row>1</th><td>100124425</td><td>Rel; nuclear factor NF-kappa-B p110 subunit isoform 1 [KO:K02580]       </td></tr>\n",
       "\t<tr><th scope=row>2</th><td>100126162</td><td>Jnk; c-Jun NH2-terminal kinase [KO:K04440] [EC:2.7.11.24]               </td></tr>\n",
       "\t<tr><th scope=row>3</th><td>100136938</td><td>SPZ1; spatzle-1 precursor [KO:K20694]                                   </td></tr>\n",
       "\t<tr><th scope=row>4</th><td>100141428</td><td>Dredd; death related ced-3/Nedd2-like protein [KO:K04398] [EC:3.4.22.61]</td></tr>\n",
       "\t<tr><th scope=row>5</th><td>100144599</td><td>18w; 18 wheeler precursor [KO:K18809]                                   </td></tr>\n",
       "\t<tr><th scope=row>6</th><td>100188963</td><td>BGRP3; beta-1,3-glucan recognition protein 3 precursor [KO:K20692]      </td></tr>\n",
       "</tbody>\n",
       "</table>\n"
      ],
      "text/latex": [
       "A data.frame: 6 × 2\n",
       "\\begin{tabular}{r|ll}\n",
       "  & ID & descrip\\\\\n",
       "  & <int> & <chr>\\\\\n",
       "\\hline\n",
       "\t1 & 100124425 & Rel; nuclear factor NF-kappa-B p110 subunit isoform 1 {[}KO:K02580{]}       \\\\\n",
       "\t2 & 100126162 & Jnk; c-Jun NH2-terminal kinase {[}KO:K04440{]} {[}EC:2.7.11.24{]}               \\\\\n",
       "\t3 & 100136938 & SPZ1; spatzle-1 precursor {[}KO:K20694{]}                                   \\\\\n",
       "\t4 & 100141428 & Dredd; death related ced-3/Nedd2-like protein {[}KO:K04398{]} {[}EC:3.4.22.61{]}\\\\\n",
       "\t5 & 100144599 & 18w; 18 wheeler precursor {[}KO:K18809{]}                                   \\\\\n",
       "\t6 & 100188963 & BGRP3; beta-1,3-glucan recognition protein 3 precursor {[}KO:K20692{]}      \\\\\n",
       "\\end{tabular}\n"
      ],
      "text/markdown": [
       "\n",
       "A data.frame: 6 × 2\n",
       "\n",
       "| <!--/--> | ID &lt;int&gt; | descrip &lt;chr&gt; |\n",
       "|---|---|---|\n",
       "| 1 | 100124425 | Rel; nuclear factor NF-kappa-B p110 subunit isoform 1 [KO:K02580]        |\n",
       "| 2 | 100126162 | Jnk; c-Jun NH2-terminal kinase [KO:K04440] [EC:2.7.11.24]                |\n",
       "| 3 | 100136938 | SPZ1; spatzle-1 precursor [KO:K20694]                                    |\n",
       "| 4 | 100141428 | Dredd; death related ced-3/Nedd2-like protein [KO:K04398] [EC:3.4.22.61] |\n",
       "| 5 | 100144599 | 18w; 18 wheeler precursor [KO:K18809]                                    |\n",
       "| 6 | 100188963 | BGRP3; beta-1,3-glucan recognition protein 3 precursor [KO:K20692]       |\n",
       "\n"
      ],
      "text/plain": [
       "  ID       \n",
       "1 100124425\n",
       "2 100126162\n",
       "3 100136938\n",
       "4 100141428\n",
       "5 100144599\n",
       "6 100188963\n",
       "  descrip                                                                 \n",
       "1 Rel; nuclear factor NF-kappa-B p110 subunit isoform 1 [KO:K02580]       \n",
       "2 Jnk; c-Jun NH2-terminal kinase [KO:K04440] [EC:2.7.11.24]               \n",
       "3 SPZ1; spatzle-1 precursor [KO:K20694]                                   \n",
       "4 Dredd; death related ced-3/Nedd2-like protein [KO:K04398] [EC:3.4.22.61]\n",
       "5 18w; 18 wheeler precursor [KO:K18809]                                   \n",
       "6 BGRP3; beta-1,3-glucan recognition protein 3 precursor [KO:K20692]      "
      ]
     },
     "metadata": {},
     "output_type": "display_data"
    }
   ],
   "source": [
    "markers<-read.csv(file='Toll_sig_KEGG_gene_list.tsv',header = T,sep=\"\\t\")\n",
    "head(markers)"
   ]
  },
  {
   "cell_type": "code",
   "execution_count": 6,
   "id": "cf3bbb91-9365-4397-9218-d7b83e915e94",
   "metadata": {},
   "outputs": [
    {
     "name": "stderr",
     "output_type": "stream",
     "text": [
      "Loading required package: BiocGenerics\n",
      "\n",
      "\n",
      "Attaching package: ‘BiocGenerics’\n",
      "\n",
      "\n",
      "The following object is masked from ‘package:SeuratObject’:\n",
      "\n",
      "    intersect\n",
      "\n",
      "\n",
      "The following objects are masked from ‘package:stats’:\n",
      "\n",
      "    IQR, mad, sd, var, xtabs\n",
      "\n",
      "\n",
      "The following objects are masked from ‘package:base’:\n",
      "\n",
      "    anyDuplicated, aperm, append, as.data.frame, basename, cbind,\n",
      "    colnames, dirname, do.call, duplicated, eval, evalq, Filter, Find,\n",
      "    get, grep, grepl, intersect, is.unsorted, lapply, Map, mapply,\n",
      "    match, mget, order, paste, pmax, pmax.int, pmin, pmin.int,\n",
      "    Position, rank, rbind, Reduce, rownames, sapply, setdiff, sort,\n",
      "    table, tapply, union, unique, unsplit, which.max, which.min\n",
      "\n",
      "\n",
      "Loading required package: BiocFileCache\n",
      "\n",
      "Loading required package: dbplyr\n",
      "\n",
      "Loading required package: stats4\n",
      "\n",
      "Loading required package: Biobase\n",
      "\n",
      "Welcome to Bioconductor\n",
      "\n",
      "    Vignettes contain introductory material; view with\n",
      "    'browseVignettes()'. To cite Bioconductor, see\n",
      "    'citation(\"Biobase\")', and for packages 'citation(\"pkgname\")'.\n",
      "\n",
      "\n",
      "\n",
      "Attaching package: ‘Biobase’\n",
      "\n",
      "\n",
      "The following object is masked from ‘package:AnnotationHub’:\n",
      "\n",
      "    cache\n",
      "\n",
      "\n",
      "Loading required package: IRanges\n",
      "\n",
      "Loading required package: S4Vectors\n",
      "\n",
      "\n",
      "Attaching package: ‘S4Vectors’\n",
      "\n",
      "\n",
      "The following objects are masked from ‘package:base’:\n",
      "\n",
      "    expand.grid, I, unname\n",
      "\n",
      "\n",
      "\n",
      "Attaching package: ‘IRanges’\n",
      "\n",
      "\n",
      "The following object is masked from ‘package:sp’:\n",
      "\n",
      "    %over%\n",
      "\n",
      "\n"
     ]
    }
   ],
   "source": [
    "library(AnnotationHub)\n",
    "library(AnnotationDbi)\n",
    "library(ggplot2)\n",
    "bombyx.db <- loadDb(\"/hsfscqjf2/ST_CQ/PROJECT_Temp/hemingmin/3.Bmori/02.database/org.db/hmm.org.Bmori.eg.sqlite\")\n"
   ]
  },
  {
   "cell_type": "code",
   "execution_count": 7,
   "id": "3bc2e7a4-cd7b-4979-b7e2-8cb15024ce3e",
   "metadata": {},
   "outputs": [
    {
     "name": "stderr",
     "output_type": "stream",
     "text": [
      "'select()' returned 1:1 mapping between keys and columns\n",
      "\n"
     ]
    }
   ],
   "source": [
    "\n",
    "geneset=as.character(na.omit(mapIds(x=bombyx.db,\n",
    "                    keys = as.character(markers$ID),\n",
    "                    keytype = \"ENTREZID\",\n",
    "                    column = \"SYMBOL\")))\n",
    "write.csv(geneset,file=\"Toll_geneset.csv\")"
   ]
  },
  {
   "cell_type": "code",
   "execution_count": 9,
   "id": "352b18ce-e155-481f-95e4-dde644eb607c",
   "metadata": {
    "tags": []
   },
   "outputs": [
    {
     "data": {
      "text/html": [
       "43"
      ],
      "text/latex": [
       "43"
      ],
      "text/markdown": [
       "43"
      ],
      "text/plain": [
       "[1] 43"
      ]
     },
     "metadata": {},
     "output_type": "display_data"
    }
   ],
   "source": [
    "length(geneset)"
   ]
  },
  {
   "cell_type": "code",
   "execution_count": 18,
   "id": "7ca18930-c103-4fe8-9d81-680c45e31ab7",
   "metadata": {},
   "outputs": [],
   "source": [
    "seurat_integrated<-readRDS(\"/hsfscqjf1/ST_CQ/P24Z32300N0020/hemingmin/bom/10.sc_merged1/results/5_anno/anno_filter.rds\")"
   ]
  },
  {
   "cell_type": "code",
   "execution_count": 19,
   "id": "74deb004-f611-42bf-add6-702e5705ea1e",
   "metadata": {},
   "outputs": [],
   "source": [
    "seurat_integrated$celltype<-seurat_integrated$celltype_v1"
   ]
  },
  {
   "cell_type": "code",
   "execution_count": 20,
   "id": "a73dfe06-fe58-4401-9331-7cbbc3ba4e43",
   "metadata": {},
   "outputs": [],
   "source": [
    "DefaultAssay(seurat_integrated) <- \"RNA\""
   ]
  },
  {
   "cell_type": "code",
   "execution_count": 21,
   "id": "47d07f65-c807-4aaa-8586-a36a2011ca7f",
   "metadata": {},
   "outputs": [
    {
     "data": {
      "text/html": [
       "42"
      ],
      "text/latex": [
       "42"
      ],
      "text/markdown": [
       "42"
      ],
      "text/plain": [
       "[1] 42"
      ]
     },
     "metadata": {},
     "output_type": "display_data"
    }
   ],
   "source": [
    "gene<-intersect(geneset,rownames(seurat_integrated@assays$RNA@counts))\n",
    "length(gene)"
   ]
  },
  {
   "cell_type": "markdown",
   "id": "3e71bda2-c0c1-4be6-9be0-723eb4f00c9b",
   "metadata": {
    "tags": []
   },
   "source": [
    "# addmodulescore"
   ]
  },
  {
   "cell_type": "code",
   "execution_count": 4,
   "id": "bcec4489-5975-41b8-ad3f-b6c7a99e1d66",
   "metadata": {},
   "outputs": [],
   "source": [
    "pal_timepoint<-c(\"L5D1\"=\"#EEE8DA\",\n",
    "                 \"L5D2\"=\"#BFE2E3\",\n",
    "                 \"L5D3\"=\"#A1CFFA\",\n",
    "                 \"L5D4\"=\"#A0BFAF\",\n",
    "                 \"L5D5\"=\"#78BDAD\",\n",
    "                 \"L5D6\"=\"#397A7F\",\n",
    "                 \"L5D7\"=\"#1F5392\",\n",
    "                 \"WD1\"=\"#F0918E\",\n",
    "                 \"WD2\"=\"#D45651\",\n",
    "                 \"P6\"=\"#AE98D6\")\n",
    "pal=c(\"Cell_morphogenesis\"='#1f77b4',\n",
    "  \"Epithelial_1\"='#279e68',\n",
    "        \"Epithelial_2\"='#98df8a',\n",
    "       \"Epithelial_3\"='#b5bd61',\n",
    "\"Cuticle_1\"='#d62728',\n",
    " \"Cuticle_2\"='#e377c2',\n",
    " \"Cuticle_3\"='#ff9896',\n",
    " \"Immune\"='#f7b6d2',\n",
    " \"Hemocyte\"='#aa40fc',\n",
    "\"Metabolic_process\"='#c49c94',\n",
    " \"Axon_development\"='#ffbb78',\n",
    " \"Ciliated_cell\"='#ff7f0e')\n"
   ]
  },
  {
   "cell_type": "code",
   "execution_count": 23,
   "id": "e5e72e65-f7fe-415f-a5c5-e36a3af3f0ac",
   "metadata": {},
   "outputs": [],
   "source": [
    "scRNA<-AddModuleScore(\n",
    "object=seurat_integrated,\n",
    "features=list(gene),\n",
    "ctrl=100,\n",
    "name = \"cell_Toll_score\")"
   ]
  },
  {
   "cell_type": "code",
   "execution_count": 24,
   "id": "b32ee787-4e28-4d75-96b8-461b7048054b",
   "metadata": {},
   "outputs": [
    {
     "data": {
      "text/plain": [
       "\n",
       "         Cuticle_3          Apoptosis          Cuticle_2             Immune \n",
       "             12045              13574               1721              28186 \n",
       "     Ciliated_cell       Epithelial_2 Cell_morphogenesis   Axon_development \n",
       "               158              19992              26798                355 \n",
       "         Cuticle_1       Epithelial_1  Metabolic_process       Epithelial_3 \n",
       "              3980              18310                257                665 "
      ]
     },
     "metadata": {},
     "output_type": "display_data"
    }
   ],
   "source": [
    "table(Idents(scRNA))\n",
    "metadata<-scRNA@meta.data\n",
    "write.csv(metadata,file = \"add_cell_Toll_score.csv\")"
   ]
  },
  {
   "cell_type": "code",
   "execution_count": 28,
   "id": "45e3d80f-6ff1-4d2d-85a2-af7b4ba2b224",
   "metadata": {},
   "outputs": [],
   "source": [
    "\n",
    "data<-scRNA@meta.data"
   ]
  },
  {
   "cell_type": "code",
   "execution_count": 5,
   "id": "dae7cbad-47e0-4c6b-8e4c-7f400f711530",
   "metadata": {},
   "outputs": [],
   "source": [
    "data<-read.csv(file = \"add_cell_Toll_score.csv\")\n",
    "data$timepoint<-factor(data$timepoint,levels =c(\"L5D1\",\n",
    "                 \"L5D2\",\n",
    "                 \"L5D3\",\n",
    "                 \"L5D4\",\n",
    "                 \"L5D5\",\n",
    "                 \"L5D6\",\n",
    "                 \"L5D7\",\n",
    "                 \"WD1\",\n",
    "                 \"WD2\",\n",
    "                 \"P6\") )"
   ]
  },
  {
   "cell_type": "code",
   "execution_count": 6,
   "id": "f9f1260a-3752-4501-aad0-2abe8e4cc96c",
   "metadata": {},
   "outputs": [
    {
     "name": "stderr",
     "output_type": "stream",
     "text": [
      "Warning message:\n",
      "“\u001b[1m\u001b[22mUsing `size` aesthetic for lines was deprecated in ggplot2 3.4.0.\n",
      "\u001b[36mℹ\u001b[39m Please use `linewidth` instead.”\n",
      "\u001b[1m\u001b[22mScale for \u001b[32my\u001b[39m is already present.\n",
      "Adding another scale for \u001b[32my\u001b[39m, which will replace the existing scale.\n",
      "Warning message:\n",
      "“\u001b[1m\u001b[22mRemoved 4489 rows containing non-finite values (`stat_boxplot()`).”\n"
     ]
    },
    {
     "data": {
      "image/png": "[encoded data removed]",
      "text/plain": [
       "plot without title"
      ]
     },
     "metadata": {
      "image/png": {
       "height": 240,
       "width": 360
      }
     },
     "output_type": "display_data"
    }
   ],
   "source": [
    "width=6\n",
    "height=4\n",
    "options(repr.plot.width = width, repr.plot.height=height)\n",
    "p1 <- ggplot(data,aes(x=timepoint,y=cell_Toll_score1,fill=timepoint))+\n",
    "# geom_violin(fill=\"gray\",alpha = 0.5) +\n",
    "geom_boxplot(width = 0.15, color= \"black\",outlier.size = 0.2,outlier.alpha = 0.1) +\n",
    "scale_fill_manual(values=pal_timepoint)+\n",
    "ylim(-2,1)+\n",
    "labs(x=\"\",y=\"Toll/Imd_pathwys_score\",title=\"\")+\n",
    " geom_hline(yintercept = 0,linetype = \"dashed\", size = 1)+\n",
    "theme(axis.text.x = element_text(vjust = 1, hjust=1,size = 12,face=\"bold\")) +\n",
    "      theme(plot.title = element_text(hjust=0.5, face=\"bold\")) +\n",
    "ylim(-2,1)+\n",
    " # stat_compare_means(method = \"anova\")+theme_classic ()+\n",
    "# stat_compare_means(label = \"p.signif\", method = \"wilcox.test\",ref.group = \".all.\", hide.ns = TRUE)+\n",
    "theme_bw(base_size=12)+\n",
    "         theme(panel.grid.major=element_line(colour=NA),\n",
    "            panel.background = element_rect(fill = \"transparent\",colour = NA),\n",
    "            plot.background = element_rect(fill = \"transparent\",colour = NA),\n",
    "            panel.grid.minor = element_blank())\n",
    "\n",
    "print(p1)\n",
    "# ggsave(p1,file='Toll_score1_timepoint_sig.pdf',height = height,width=width)"
   ]
  },
  {
   "cell_type": "code",
   "execution_count": null,
   "id": "0ffd01a4-bb88-4c2c-b2d8-764f0315581d",
   "metadata": {},
   "outputs": [],
   "source": []
  }
 ],
 "metadata": {
  "kernelspec": {
   "display_name": "ir_cellchat",
   "language": "R",
   "name": "r_cellchat"
  },
  "language_info": {
   "codemirror_mode": "r",
   "file_extension": ".r",
   "mimetype": "text/x-r-source",
   "name": "R",
   "pygments_lexer": "r",
   "version": "4.2.3"
  }
 },
 "nbformat": 4,
 "nbformat_minor": 5
}
