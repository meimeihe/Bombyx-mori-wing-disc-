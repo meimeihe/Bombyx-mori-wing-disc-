{
 "cells": [
  {
   "cell_type": "code",
   "execution_count": 2,
   "id": "b26e8672-5f07-47c2-aaeb-13457a44b059",
   "metadata": {},
   "outputs": [
    {
     "data": {
      "text/html": [],
      "text/latex": [],
      "text/markdown": [],
      "text/plain": [
       "character(0)"
      ]
     },
     "metadata": {},
     "output_type": "display_data"
    }
   ],
   "source": [
    "rm(list= ls())\n",
    "ls()"
   ]
  },
  {
   "cell_type": "code",
   "execution_count": 3,
   "id": "9c512ad5-53e9-437b-a03f-fc3890cbd6a0",
   "metadata": {},
   "outputs": [],
   "source": [
    ".libPaths(c(\"/hsfscqjf2/ST_CQ/Reference/software/envs/cellchat/lib/R/library\",\n",
    "           \"/hsfscqjf2/ST_CQ/Reference/software/envs/RTest/lib/R/library\"))"
   ]
  },
  {
   "cell_type": "code",
   "execution_count": 6,
   "id": "101f09a4-b367-4536-b235-47ef69171a7f",
   "metadata": {},
   "outputs": [],
   "source": [
    "library(Seurat)\n",
    "library(ggplot2)\n",
    "library(future)\n",
    "library(ggsci)\n",
    "library(scales)\n",
    "library(RColorBrewer)\n",
    "library(ggplot2)\n",
    "library(ggrepel)\n",
    "library(ggpubr)\n"
   ]
  },
  {
   "cell_type": "code",
   "execution_count": 7,
   "id": "27e34d9d-960d-4550-b765-1c49edcc6d71",
   "metadata": {},
   "outputs": [
    {
     "name": "stderr",
     "output_type": "stream",
     "text": [
      "Warning message in dir.create(resultdir):\n",
      "“'/hsfscqjf1/ST_CQ/P24Z32300N0020/hemingmin/bom/10.sc_merged1/results/8_hippo_scores' already exists”\n"
     ]
    }
   ],
   "source": [
    "resultdir<-\"/hsfscqjf1/ST_CQ/P24Z32300N0020/hemingmin/bom/10.sc_merged1/results/8_hippo_scores/\"\n",
    "dir.create(resultdir)\n",
    "figuredir=resultdir\n",
    "setwd(resultdir)"
   ]
  },
  {
   "cell_type": "code",
   "execution_count": 5,
   "id": "c32468b8-af98-47f8-b609-ac81ddfb5e97",
   "metadata": {},
   "outputs": [
    {
     "data": {
      "text/html": [
       "<table class=\"dataframe\">\n",
       "<caption>A data.frame: 6 × 2</caption>\n",
       "<thead>\n",
       "\t<tr><th></th><th scope=col>ID</th><th scope=col>descrip</th></tr>\n",
       "\t<tr><th></th><th scope=col>&lt;int&gt;</th><th scope=col>&lt;chr&gt;</th></tr>\n",
       "</thead>\n",
       "<tbody>\n",
       "\t<tr><th scope=row>1</th><td>   692948</td><td>Lix1; Lix1 protein [KO:K16673]                                        </td></tr>\n",
       "\t<tr><th scope=row>2</th><td>101736045</td><td>extracellular serine/threonine protein kinase four-jointed [KO:K16674]</td></tr>\n",
       "\t<tr><th scope=row>3</th><td>101746256</td><td>protein dachsous [KO:K16507]                                          </td></tr>\n",
       "\t<tr><th scope=row>4</th><td>101743456</td><td>cadherin-related tumor suppressor [KO:K16669]                         </td></tr>\n",
       "\t<tr><th scope=row>5</th><td>   692728</td><td>dbt; double-time protein [KO:K08960] [EC:2.7.11.1]                    </td></tr>\n",
       "\t<tr><th scope=row>6</th><td>110385380</td><td>arginine-glutamic acid dipeptide repeats protein [KO:K05628]          </td></tr>\n",
       "</tbody>\n",
       "</table>\n"
      ],
      "text/latex": [
       "A data.frame: 6 × 2\n",
       "\\begin{tabular}{r|ll}\n",
       "  & ID & descrip\\\\\n",
       "  & <int> & <chr>\\\\\n",
       "\\hline\n",
       "\t1 &    692948 & Lix1; Lix1 protein {[}KO:K16673{]}                                        \\\\\n",
       "\t2 & 101736045 & extracellular serine/threonine protein kinase four-jointed {[}KO:K16674{]}\\\\\n",
       "\t3 & 101746256 & protein dachsous {[}KO:K16507{]}                                          \\\\\n",
       "\t4 & 101743456 & cadherin-related tumor suppressor {[}KO:K16669{]}                         \\\\\n",
       "\t5 &    692728 & dbt; double-time protein {[}KO:K08960{]} {[}EC:2.7.11.1{]}                    \\\\\n",
       "\t6 & 110385380 & arginine-glutamic acid dipeptide repeats protein {[}KO:K05628{]}          \\\\\n",
       "\\end{tabular}\n"
      ],
      "text/markdown": [
       "\n",
       "A data.frame: 6 × 2\n",
       "\n",
       "| <!--/--> | ID &lt;int&gt; | descrip &lt;chr&gt; |\n",
       "|---|---|---|\n",
       "| 1 |    692948 | Lix1; Lix1 protein [KO:K16673]                                         |\n",
       "| 2 | 101736045 | extracellular serine/threonine protein kinase four-jointed [KO:K16674] |\n",
       "| 3 | 101746256 | protein dachsous [KO:K16507]                                           |\n",
       "| 4 | 101743456 | cadherin-related tumor suppressor [KO:K16669]                          |\n",
       "| 5 |    692728 | dbt; double-time protein [KO:K08960] [EC:2.7.11.1]                     |\n",
       "| 6 | 110385380 | arginine-glutamic acid dipeptide repeats protein [KO:K05628]           |\n",
       "\n"
      ],
      "text/plain": [
       "  ID       \n",
       "1    692948\n",
       "2 101736045\n",
       "3 101746256\n",
       "4 101743456\n",
       "5    692728\n",
       "6 110385380\n",
       "  descrip                                                               \n",
       "1 Lix1; Lix1 protein [KO:K16673]                                        \n",
       "2 extracellular serine/threonine protein kinase four-jointed [KO:K16674]\n",
       "3 protein dachsous [KO:K16507]                                          \n",
       "4 cadherin-related tumor suppressor [KO:K16669]                         \n",
       "5 dbt; double-time protein [KO:K08960] [EC:2.7.11.1]                    \n",
       "6 arginine-glutamic acid dipeptide repeats protein [KO:K05628]          "
      ]
     },
     "metadata": {},
     "output_type": "display_data"
    }
   ],
   "source": [
    "markers<-read.csv(file='Hippo_sig_KEGG_gene_list',header = T,sep=\"\\t\")\n",
    "head(markers)"
   ]
  },
  {
   "cell_type": "code",
   "execution_count": 6,
   "id": "cf3bbb91-9365-4397-9218-d7b83e915e94",
   "metadata": {},
   "outputs": [
    {
     "name": "stderr",
     "output_type": "stream",
     "text": [
      "Loading required package: BiocGenerics\n",
      "\n",
      "\n",
      "Attaching package: ‘BiocGenerics’\n",
      "\n",
      "\n",
      "The following object is masked from ‘package:SeuratObject’:\n",
      "\n",
      "    intersect\n",
      "\n",
      "\n",
      "The following objects are masked from ‘package:stats’:\n",
      "\n",
      "    IQR, mad, sd, var, xtabs\n",
      "\n",
      "\n",
      "The following objects are masked from ‘package:base’:\n",
      "\n",
      "    anyDuplicated, aperm, append, as.data.frame, basename, cbind,\n",
      "    colnames, dirname, do.call, duplicated, eval, evalq, Filter, Find,\n",
      "    get, grep, grepl, intersect, is.unsorted, lapply, Map, mapply,\n",
      "    match, mget, order, paste, pmax, pmax.int, pmin, pmin.int,\n",
      "    Position, rank, rbind, Reduce, rownames, sapply, setdiff, sort,\n",
      "    table, tapply, union, unique, unsplit, which.max, which.min\n",
      "\n",
      "\n",
      "Loading required package: BiocFileCache\n",
      "\n",
      "Loading required package: dbplyr\n",
      "\n",
      "Loading required package: stats4\n",
      "\n",
      "Loading required package: Biobase\n",
      "\n",
      "Welcome to Bioconductor\n",
      "\n",
      "    Vignettes contain introductory material; view with\n",
      "    'browseVignettes()'. To cite Bioconductor, see\n",
      "    'citation(\"Biobase\")', and for packages 'citation(\"pkgname\")'.\n",
      "\n",
      "\n",
      "\n",
      "Attaching package: ‘Biobase’\n",
      "\n",
      "\n",
      "The following object is masked from ‘package:AnnotationHub’:\n",
      "\n",
      "    cache\n",
      "\n",
      "\n",
      "Loading required package: IRanges\n",
      "\n",
      "Loading required package: S4Vectors\n",
      "\n",
      "\n",
      "Attaching package: ‘S4Vectors’\n",
      "\n",
      "\n",
      "The following objects are masked from ‘package:base’:\n",
      "\n",
      "    expand.grid, I, unname\n",
      "\n",
      "\n",
      "\n",
      "Attaching package: ‘IRanges’\n",
      "\n",
      "\n",
      "The following object is masked from ‘package:sp’:\n",
      "\n",
      "    %over%\n",
      "\n",
      "\n"
     ]
    }
   ],
   "source": [
    "library(AnnotationHub)\n",
    "library(AnnotationDbi)\n",
    "library(ggplot2)\n",
    "bombyx.db <- loadDb(\"/hsfscqjf2/ST_CQ/PROJECT_Temp/hemingmin/3.Bmori/02.database/org.db/hmm.org.Bmori.eg.sqlite\")\n"
   ]
  },
  {
   "cell_type": "code",
   "execution_count": 18,
   "id": "3bc2e7a4-cd7b-4979-b7e2-8cb15024ce3e",
   "metadata": {},
   "outputs": [
    {
     "name": "stderr",
     "output_type": "stream",
     "text": [
      "'select()' returned 1:1 mapping between keys and columns\n",
      "\n"
     ]
    }
   ],
   "source": [
    "\n",
    "geneset=as.character(na.omit(mapIds(x=bombyx.db,\n",
    "                    keys = as.character(markers$ID),\n",
    "                    keytype = \"ENTREZID\",\n",
    "                    column = \"SYMBOL\")))\n",
    "write.csv(geneset,file=\"Hippo_geneset.csv\")"
   ]
  },
  {
   "cell_type": "code",
   "execution_count": 13,
   "id": "352b18ce-e155-481f-95e4-dde644eb607c",
   "metadata": {
    "tags": []
   },
   "outputs": [
    {
     "data": {
      "text/html": [
       "<table class=\"dataframe\">\n",
       "<caption>A data.frame: 6 × 2</caption>\n",
       "<thead>\n",
       "\t<tr><th></th><th scope=col>X</th><th scope=col>x</th></tr>\n",
       "\t<tr><th></th><th scope=col>&lt;int&gt;</th><th scope=col>&lt;chr&gt;</th></tr>\n",
       "</thead>\n",
       "<tbody>\n",
       "\t<tr><th scope=row>1</th><td>1</td><td>Lix1        </td></tr>\n",
       "\t<tr><th scope=row>2</th><td>2</td><td>dbt         </td></tr>\n",
       "\t<tr><th scope=row>3</th><td>3</td><td>LOC101743219</td></tr>\n",
       "\t<tr><th scope=row>4</th><td>4</td><td>LOC101747095</td></tr>\n",
       "\t<tr><th scope=row>5</th><td>5</td><td>LOC101742621</td></tr>\n",
       "\t<tr><th scope=row>6</th><td>6</td><td>Apkc        </td></tr>\n",
       "</tbody>\n",
       "</table>\n"
      ],
      "text/latex": [
       "A data.frame: 6 × 2\n",
       "\\begin{tabular}{r|ll}\n",
       "  & X & x\\\\\n",
       "  & <int> & <chr>\\\\\n",
       "\\hline\n",
       "\t1 & 1 & Lix1        \\\\\n",
       "\t2 & 2 & dbt         \\\\\n",
       "\t3 & 3 & LOC101743219\\\\\n",
       "\t4 & 4 & LOC101747095\\\\\n",
       "\t5 & 5 & LOC101742621\\\\\n",
       "\t6 & 6 & Apkc        \\\\\n",
       "\\end{tabular}\n"
      ],
      "text/markdown": [
       "\n",
       "A data.frame: 6 × 2\n",
       "\n",
       "| <!--/--> | X &lt;int&gt; | x &lt;chr&gt; |\n",
       "|---|---|---|\n",
       "| 1 | 1 | Lix1         |\n",
       "| 2 | 2 | dbt          |\n",
       "| 3 | 3 | LOC101743219 |\n",
       "| 4 | 4 | LOC101747095 |\n",
       "| 5 | 5 | LOC101742621 |\n",
       "| 6 | 6 | Apkc         |\n",
       "\n"
      ],
      "text/plain": [
       "  X x           \n",
       "1 1 Lix1        \n",
       "2 2 dbt         \n",
       "3 3 LOC101743219\n",
       "4 4 LOC101747095\n",
       "5 5 LOC101742621\n",
       "6 6 Apkc        "
      ]
     },
     "metadata": {},
     "output_type": "display_data"
    }
   ],
   "source": [
    "geneset<-read.csv(\"./Hippo_geneset.csv\")\n",
    "head(geneset)"
   ]
  },
  {
   "cell_type": "code",
   "execution_count": 8,
   "id": "7ca18930-c103-4fe8-9d81-680c45e31ab7",
   "metadata": {},
   "outputs": [],
   "source": [
    "seurat_integrated<-readRDS(\"/hsfscqjf1/ST_CQ/P24Z32300N0020/hemingmin/bom/10.sc_merged1/results/5_anno/anno_filter.rds\")"
   ]
  },
  {
   "cell_type": "code",
   "execution_count": 9,
   "id": "74deb004-f611-42bf-add6-702e5705ea1e",
   "metadata": {},
   "outputs": [],
   "source": [
    "seurat_integrated$celltype<-seurat_integrated$celltype_v1"
   ]
  },
  {
   "cell_type": "code",
   "execution_count": 10,
   "id": "a73dfe06-fe58-4401-9331-7cbbc3ba4e43",
   "metadata": {},
   "outputs": [],
   "source": [
    "DefaultAssay(seurat_integrated) <- \"RNA\""
   ]
  },
  {
   "cell_type": "code",
   "execution_count": 14,
   "id": "47d07f65-c807-4aaa-8586-a36a2011ca7f",
   "metadata": {},
   "outputs": [
    {
     "data": {
      "text/html": [
       "30"
      ],
      "text/latex": [
       "30"
      ],
      "text/markdown": [
       "30"
      ],
      "text/plain": [
       "[1] 30"
      ]
     },
     "metadata": {},
     "output_type": "display_data"
    }
   ],
   "source": [
    "gene<-intersect(geneset$x,rownames(seurat_integrated@assays$RNA@counts))\n",
    "length(gene)"
   ]
  },
  {
   "cell_type": "markdown",
   "id": "3e71bda2-c0c1-4be6-9be0-723eb4f00c9b",
   "metadata": {
    "tags": []
   },
   "source": [
    "# addmodulescore"
   ]
  },
  {
   "cell_type": "code",
   "execution_count": 15,
   "id": "bcec4489-5975-41b8-ad3f-b6c7a99e1d66",
   "metadata": {},
   "outputs": [],
   "source": [
    "pal_timepoint<-c(\"L5D1\"=\"#EEE8DA\",\n",
    "                 \"L5D2\"=\"#BFE2E3\",\n",
    "                 \"L5D3\"=\"#A1CFFA\",\n",
    "                 \"L5D4\"=\"#A0BFAF\",\n",
    "                 \"L5D5\"=\"#78BDAD\",\n",
    "                 \"L5D6\"=\"#397A7F\",\n",
    "                 \"L5D7\"=\"#1F5392\",\n",
    "                 \"WD1\"=\"#F0918E\",\n",
    "                 \"WD2\"=\"#D45651\",\n",
    "                 \"P6\"=\"#AE98D6\")\n",
    "pal=c(\"Cell_morphogenesis\"='#1f77b4',\n",
    "  \"Epithelial_1\"='#279e68',\n",
    "        \"Epithelial_2\"='#98df8a',\n",
    "       \"Epithelial_3\"='#b5bd61',\n",
    "\"Cuticle_1\"='#d62728',\n",
    " \"Cuticle_2\"='#e377c2',\n",
    " \"Cuticle_3\"='#ff9896',\n",
    " \"Immune\"='#f7b6d2',\n",
    " \"Hemocyte\"='#aa40fc',\n",
    "\"Metabolic_process\"='#c49c94',\n",
    " \"Axon_development\"='#ffbb78',\n",
    " \"Ciliated_cell\"='#ff7f0e',\n",
    " \"Others\"='#564146')\n"
   ]
  },
  {
   "cell_type": "code",
   "execution_count": 16,
   "id": "e5e72e65-f7fe-415f-a5c5-e36a3af3f0ac",
   "metadata": {},
   "outputs": [],
   "source": [
    "scRNA<-AddModuleScore(\n",
    "object=seurat_integrated,\n",
    "features=list(gene),\n",
    "ctrl=100,\n",
    "name = \"cell_Hippo_score\")"
   ]
  },
  {
   "cell_type": "code",
   "execution_count": 17,
   "id": "b32ee787-4e28-4d75-96b8-461b7048054b",
   "metadata": {},
   "outputs": [
    {
     "data": {
      "text/plain": [
       "\n",
       "         Cuticle_3          Apoptosis          Cuticle_2             Immune \n",
       "             12045              13574               1721              28186 \n",
       "     Ciliated_cell       Epithelial_2 Cell_morphogenesis   Axon_development \n",
       "               158              19992              26798                355 \n",
       "         Cuticle_1       Epithelial_1  Metabolic_process       Epithelial_3 \n",
       "              3980              18310                257                665 "
      ]
     },
     "metadata": {},
     "output_type": "display_data"
    }
   ],
   "source": [
    "table(Idents(scRNA))\n",
    "metadata<-scRNA@meta.data\n",
    "write.csv(metadata,file = \"add_cell_Hippo_score.csv\")"
   ]
  },
  {
   "cell_type": "markdown",
   "id": "c426d7fc-cba0-44dd-bdc2-55c29c2f7ef1",
   "metadata": {},
   "source": [
    "# plot"
   ]
  },
  {
   "cell_type": "code",
   "execution_count": 1,
   "id": "13e4cf7b-c9af-4409-9f9b-7e2d13ccd39b",
   "metadata": {},
   "outputs": [],
   "source": [
    "data<-read.csv(file = \"add_cell_Hippo_score.csv\")"
   ]
  },
  {
   "cell_type": "code",
   "execution_count": 27,
   "id": "f9f1260a-3752-4501-aad0-2abe8e4cc96c",
   "metadata": {},
   "outputs": [
    {
     "name": "stderr",
     "output_type": "stream",
     "text": [
      "Warning message:\n",
      "“\u001b[1m\u001b[22mRemoved 12433 rows containing non-finite values (`stat_boxplot()`).”\n",
      "Warning message:\n",
      "“\u001b[1m\u001b[22mRemoved 12433 rows containing non-finite values (`stat_boxplot()`).”\n"
     ]
    },
    {
     "data": {
      "image/png": "[encoded data removed]",
      "text/plain": [
       "plot without title"
      ]
     },
     "metadata": {
      "image/png": {
       "height": 240,
       "width": 360
      }
     },
     "output_type": "display_data"
    }
   ],
   "source": [
    "width=6\n",
    "height=4\n",
    "options(repr.plot.width = width, repr.plot.height=height)\n",
    "p1 <- ggplot(data,aes(x=timepoint,y=cell_Hippo_score1,fill=timepoint))+\n",
    "# geom_violin(fill=\"gray\",alpha = 0.5) +\n",
    "geom_boxplot(width = 0.15, color= \"black\",outlier.size = 0.2,outlier.alpha = 0.1) +\n",
    "scale_fill_manual(values=pal_timepoint)+\n",
    "ylim(-1,4)+\n",
    "labs(x=\"\",y=\"Hippo_pathwys_score\",title=\" \")+\n",
    " geom_hline(yintercept = 0,linetype = \"dashed\", size = 1)+\n",
    "theme(axis.text.x = element_text(vjust = 1, hjust=1,size = 12,face=\"bold\")) +\n",
    "      theme(plot.title = element_text(hjust=0.5, face=\"bold\")) +\n",
    " # stat_compare_means(method = \"anova\")+theme_classic ()+\n",
    "# stat_compare_means(label = \"p.signif\", method = \"wilcox.test\",ref.group = \".all.\", hide.ns = TRUE)+\n",
    "theme_bw(base_size=12)+\n",
    "         theme(panel.grid.major=element_line(colour=NA),\n",
    "            panel.background = element_rect(fill = \"transparent\",colour = NA),\n",
    "            plot.background = element_rect(fill = \"transparent\",colour = NA),\n",
    "            panel.grid.minor = element_blank())\n",
    "\n",
    "print(p1)\n",
    "ggsave(p1,file='Hippo_score1_timepoint_sig.pdf',height = height,width=width)"
   ]
  }
 ],
 "metadata": {
  "kernelspec": {
   "display_name": "ir_cellchat",
   "language": "R",
   "name": "r_cellchat"
  },
  "language_info": {
   "codemirror_mode": "r",
   "file_extension": ".r",
   "mimetype": "text/x-r-source",
   "name": "R",
   "pygments_lexer": "r",
   "version": "4.2.3"
  }
 },
 "nbformat": 4,
 "nbformat_minor": 5
}
