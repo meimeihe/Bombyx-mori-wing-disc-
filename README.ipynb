{
 "cells": [
  {
   "cell_type": "markdown",
   "id": "c9c0664c-a183-4678-9a0c-3db85b7aef07",
   "metadata": {},
   "source": [
    "# Spatial and single-cell transcriptomic atlas of the silkworm (Bombyx mori) wing disc "
   ]
  },
  {
   "cell_type": "markdown",
   "id": "d03c89df-d0bb-4939-81bc-e1b94717f24d",
   "metadata": {},
   "source": [
    "To gain further insights into the dynamic cellular transitions, spatial organization, and hormonal regulatory mechanism of silkworm (Bombyx mori) wing disc development, we generated novel single-cell RNA-sequencing from silkworm wing disc samples at different developmental times and integrated it with single nucleus RNA sequencing and spatial transcriptomics data from different times. Using our multi-modal atlas, we elucidate cell type functions and transcription factors within the silkworm wing disc with previously unrecognized aspects of its development. Here we present the different approaches of this work."
   ]
  },
  {
   "cell_type": "markdown",
   "id": "a5f66fa8-b928-46e9-8957-2b2d9c63bed4",
   "metadata": {},
   "source": [
    "## Workflow of the multi-modal silkworm (Bombyx mori) wing disc:"
   ]
  },
  {
   "cell_type": "markdown",
   "id": "22bb986e-f004-4cc1-8e85-8eb56e7e30c4",
   "metadata": {},
   "source": [
    "The analysis of the integrated single-cell RNA-seq data ,single nucleus RNA sequencing and spatial transcriptomics were performed as described in the following sections: "
   ]
  },
  {
   "cell_type": "markdown",
   "id": "918e3bf4-d435-4144-8f5c-0e4dc46a4b22",
   "metadata": {},
   "source": [
    "    01-QC"
   ]
  },
  {
   "cell_type": "markdown",
   "id": "ed0876f3-c3e8-4312-b673-23298c999898",
   "metadata": {},
   "source": [
    "    02-cell type annotation single-cell RNA-seq data ,single nucleus RNA sequencing and spatial transcriptomics"
   ]
  },
  {
   "cell_type": "markdown",
   "id": "c99003f4-242d-4483-8f83-fd0f0a097f9e",
   "metadata": {},
   "source": [
    "    03-Psedudoitme and trajectory analysis of scRNA-seq altal"
   ]
  },
  {
   "cell_type": "markdown",
   "id": "28f55689-19ca-431f-bd67-7bf718607da0",
   "metadata": {},
   "source": [
    "    04-TFs and 20E dodules of snRNA-seq altal"
   ]
  },
  {
   "cell_type": "markdown",
   "id": "0ce05e4f-3b4e-4120-b222-ab3f9f796c62",
   "metadata": {},
   "source": [
    "    05-stages and cell–cell interactions of scRNA-seq altal"
   ]
  },
  {
   "cell_type": "markdown",
   "id": "6d99fc2f-6b09-4a35-a576-7b04e36eec40",
   "metadata": {},
   "source": [
    "## Data"
   ]
  },
  {
   "cell_type": "markdown",
   "id": "412de77d-dbb8-4e28-891d-f04eadae19d1",
   "metadata": {},
   "source": [
    "Raw data: https://db.cngb.org/cnsa/ ,CNSA, accession code: CNP0005964"
   ]
  },
  {
   "cell_type": "code",
   "execution_count": null,
   "id": "6ae5cfb8-a17f-486d-9732-b8e862f8fe6a",
   "metadata": {},
   "outputs": [],
   "source": []
  }
 ],
 "metadata": {
  "kernelspec": {
   "display_name": "ir_cellchat",
   "language": "R",
   "name": "r_cellchat"
  },
  "language_info": {
   "codemirror_mode": "r",
   "file_extension": ".r",
   "mimetype": "text/x-r-source",
   "name": "R",
   "pygments_lexer": "r",
   "version": "4.2.3"
  }
 },
 "nbformat": 4,
 "nbformat_minor": 5
}
